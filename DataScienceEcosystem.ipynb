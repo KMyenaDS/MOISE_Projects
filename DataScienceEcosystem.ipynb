{
 "cells": [
  {
   "cell_type": "markdown",
   "id": "2b88fd8a",
   "metadata": {},
   "source": [
    "Exercise 2: Create markdown cell with title of the notebook.\n",
    "    \n",
    "Create a markdown cell with the title Data Science Tools and Ecosystem using H1 style heading."
   ]
  },
  {
   "cell_type": "code",
   "execution_count": null,
   "id": "345db371",
   "metadata": {},
   "outputs": [],
   "source": [
    "# Data Science Tools and Ecosystem"
   ]
  },
  {
   "cell_type": "markdown",
   "id": "1c243eea",
   "metadata": {},
   "source": [
    "Exercise 3 - Create a markdown cell for an introduction"
   ]
  },
  {
   "cell_type": "code",
   "execution_count": null,
   "id": "0d48dbee",
   "metadata": {},
   "outputs": [],
   "source": [
    "*In this notebook, Data Science Tools and Ecosystem are summarized.*"
   ]
  },
  {
   "cell_type": "markdown",
   "id": "56f15e66",
   "metadata": {},
   "source": [
    "Exercise 4 - Create a markdown cell to list data science languages"
   ]
  },
  {
   "cell_type": "code",
   "execution_count": null,
   "id": "924d0af0",
   "metadata": {},
   "outputs": [],
   "source": [
    "*Some of the popular languages that Data Scientists use are:*\n",
    "    \n",
    "    1. Python\n",
    "    \n",
    "    2. SQL\n",
    "    \n",
    "    3. R"
   ]
  },
  {
   "cell_type": "markdown",
   "id": "361e2929",
   "metadata": {},
   "source": [
    "Exercise 5 - Create a markdown cell to list data science libraries"
   ]
  },
  {
   "cell_type": "code",
   "execution_count": null,
   "id": "35f66de7",
   "metadata": {},
   "outputs": [],
   "source": [
    "*Some of the commonly used libraries used by Data Scientists include:*\n",
    "    \n",
    "    - Pandas\n",
    "    \n",
    "    - Numpy\n",
    "    \n",
    "    - Caret"
   ]
  },
  {
   "cell_type": "markdown",
   "id": "2125aaa7",
   "metadata": {},
   "source": [
    "Exercise 6 - Create a markdown cell with a table of Data Science tools"
   ]
  },
  {
   "cell_type": "code",
   "execution_count": null,
   "id": "2e4668d8",
   "metadata": {},
   "outputs": [],
   "source": [
    "| Data Science Tools|\n",
    "|-------------------|\n",
    "| Jupyter Notebook|\n",
    "| Rstudio|\n",
    "| VS Code |"
   ]
  },
  {
   "cell_type": "markdown",
   "id": "6dc9b741",
   "metadata": {},
   "source": [
    "Exercise 7 - Create a markdown cell introducing arithmetic expression examples"
   ]
  },
  {
   "cell_type": "code",
   "execution_count": null,
   "id": "19102cc4",
   "metadata": {},
   "outputs": [],
   "source": [
    "### Below are a few examples of evaluating arithmetic expressions in Python"
   ]
  },
  {
   "cell_type": "markdown",
   "id": "e5a2960b",
   "metadata": {},
   "source": [
    "Exercise 8 - Create a code cell to multiply and add numbers\n",
    "\n",
    "In this code cell evaluate the expression (3*4)+5.\n",
    "Insert a comment line before the expression to explain the operation e.g.  This a simple arithmetic expression to mutiply then add integers.\n",
    "Then execute the cell to ensure the expression returns the expected output of 17."
   ]
  },
  {
   "cell_type": "markdown",
   "id": "7235ef9d",
   "metadata": {},
   "source": [
    "__This a simple arithmetic expression to mutiply then add integers__:"
   ]
  },
  {
   "cell_type": "code",
   "execution_count": 1,
   "id": "0d710e79",
   "metadata": {},
   "outputs": [
    {
     "data": {
      "text/plain": [
       "17"
      ]
     },
     "execution_count": 1,
     "metadata": {},
     "output_type": "execute_result"
    }
   ],
   "source": [
    "(3*4)+5"
   ]
  },
  {
   "cell_type": "markdown",
   "id": "2c2493c8",
   "metadata": {},
   "source": [
    "Exercise 9 - Create a code cell to convert minutes to hours"
   ]
  },
  {
   "cell_type": "code",
   "execution_count": 2,
   "id": "2c5ac363",
   "metadata": {},
   "outputs": [
    {
     "name": "stdout",
     "output_type": "stream",
     "text": [
      "3.3333333333333335\n"
     ]
    }
   ],
   "source": [
    "# This will convert 200 minutes to hours by diving by 60\n",
    "\n",
    "y = 200 # 200 minutes\n",
    "x = y/60 # x an hours\n",
    "print(x)"
   ]
  },
  {
   "cell_type": "markdown",
   "id": "71c7b5af",
   "metadata": {},
   "source": [
    "Exercise 10 - Insert a markdown cell to list Objectives"
   ]
  },
  {
   "cell_type": "markdown",
   "id": "5b384c79",
   "metadata": {},
   "source": [
    "__Objectives:__"
   ]
  },
  {
   "cell_type": "code",
   "execution_count": null,
   "id": "5367f2fe",
   "metadata": {},
   "outputs": [],
   "source": [
    "- Create a Jupyter Notebook\n",
    "\n",
    "- Insert code and markdown cells\n",
    "\n",
    "- Share your notebook through GitHub"
   ]
  },
  {
   "cell_type": "markdown",
   "id": "fa601c5c",
   "metadata": {},
   "source": [
    "Exercise 11 - Create a markdown cell to indicate the Author's name"
   ]
  },
  {
   "cell_type": "code",
   "execution_count": null,
   "id": "c7d5d642",
   "metadata": {},
   "outputs": [],
   "source": [
    "## Author\n",
    "Kofivi Mawouko YENA"
   ]
  }
 ],
 "metadata": {
  "kernelspec": {
   "display_name": "Python 3 (ipykernel)",
   "language": "python",
   "name": "python3"
  },
  "language_info": {
   "codemirror_mode": {
    "name": "ipython",
    "version": 3
   },
   "file_extension": ".py",
   "mimetype": "text/x-python",
   "name": "python",
   "nbconvert_exporter": "python",
   "pygments_lexer": "ipython3",
   "version": "3.9.12"
  }
 },
 "nbformat": 4,
 "nbformat_minor": 5
}
